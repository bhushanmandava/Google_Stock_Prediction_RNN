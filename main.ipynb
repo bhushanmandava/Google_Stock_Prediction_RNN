{
 "cells": [
  {
   "cell_type": "code",
   "execution_count": 15,
   "metadata": {},
   "outputs": [],
   "source": [
    "import torch\n",
    "import torch.nn as nn\n",
    "import torch.optim as optim\n",
    "import os\n",
    "import numpy as np\n",
    "import pandas as pd\n",
    "import matplotlib.pyplot as plt\n",
    "import sklearn \n",
    "\n"
   ]
  },
  {
   "cell_type": "code",
   "execution_count": 16,
   "metadata": {},
   "outputs": [
    {
     "data": {
      "text/html": [
       "<div>\n",
       "<style scoped>\n",
       "    .dataframe tbody tr th:only-of-type {\n",
       "        vertical-align: middle;\n",
       "    }\n",
       "\n",
       "    .dataframe tbody tr th {\n",
       "        vertical-align: top;\n",
       "    }\n",
       "\n",
       "    .dataframe thead th {\n",
       "        text-align: right;\n",
       "    }\n",
       "</style>\n",
       "<table border=\"1\" class=\"dataframe\">\n",
       "  <thead>\n",
       "    <tr style=\"text-align: right;\">\n",
       "      <th></th>\n",
       "      <th>Date</th>\n",
       "      <th>Open</th>\n",
       "      <th>High</th>\n",
       "      <th>Low</th>\n",
       "      <th>Close</th>\n",
       "      <th>Volume</th>\n",
       "    </tr>\n",
       "  </thead>\n",
       "  <tbody>\n",
       "    <tr>\n",
       "      <th>0</th>\n",
       "      <td>1/3/2012</td>\n",
       "      <td>325.25</td>\n",
       "      <td>332.83</td>\n",
       "      <td>324.97</td>\n",
       "      <td>663.59</td>\n",
       "      <td>7,380,500</td>\n",
       "    </tr>\n",
       "    <tr>\n",
       "      <th>1</th>\n",
       "      <td>1/4/2012</td>\n",
       "      <td>331.27</td>\n",
       "      <td>333.87</td>\n",
       "      <td>329.08</td>\n",
       "      <td>666.45</td>\n",
       "      <td>5,749,400</td>\n",
       "    </tr>\n",
       "    <tr>\n",
       "      <th>2</th>\n",
       "      <td>1/5/2012</td>\n",
       "      <td>329.83</td>\n",
       "      <td>330.75</td>\n",
       "      <td>326.89</td>\n",
       "      <td>657.21</td>\n",
       "      <td>6,590,300</td>\n",
       "    </tr>\n",
       "    <tr>\n",
       "      <th>3</th>\n",
       "      <td>1/6/2012</td>\n",
       "      <td>328.34</td>\n",
       "      <td>328.77</td>\n",
       "      <td>323.68</td>\n",
       "      <td>648.24</td>\n",
       "      <td>5,405,900</td>\n",
       "    </tr>\n",
       "    <tr>\n",
       "      <th>4</th>\n",
       "      <td>1/9/2012</td>\n",
       "      <td>322.04</td>\n",
       "      <td>322.29</td>\n",
       "      <td>309.46</td>\n",
       "      <td>620.76</td>\n",
       "      <td>11,688,800</td>\n",
       "    </tr>\n",
       "  </tbody>\n",
       "</table>\n",
       "</div>"
      ],
      "text/plain": [
       "       Date    Open    High     Low   Close      Volume\n",
       "0  1/3/2012  325.25  332.83  324.97  663.59   7,380,500\n",
       "1  1/4/2012  331.27  333.87  329.08  666.45   5,749,400\n",
       "2  1/5/2012  329.83  330.75  326.89  657.21   6,590,300\n",
       "3  1/6/2012  328.34  328.77  323.68  648.24   5,405,900\n",
       "4  1/9/2012  322.04  322.29  309.46  620.76  11,688,800"
      ]
     },
     "execution_count": 16,
     "metadata": {},
     "output_type": "execute_result"
    }
   ],
   "source": [
    "dataSet_train = pd.read_csv(\"/Users/bhushanchowdary/Documents/GitHub/Google_Stock_Prediction_RNN/google_dataset/Google_Stock_Price_Train.csv\");\n",
    "dataSet_train.head()"
   ]
  },
  {
   "cell_type": "code",
   "execution_count": 17,
   "metadata": {},
   "outputs": [],
   "source": [
    "train_set = dataSet_train.iloc[:,1:2].values\n"
   ]
  },
  {
   "cell_type": "code",
   "execution_count": 18,
   "metadata": {},
   "outputs": [
    {
     "name": "stdout",
     "output_type": "stream",
     "text": [
      "1258\n",
      "****************************************************************************************************\n",
      "[[325.25]\n",
      " [331.27]\n",
      " [329.83]\n",
      " ...\n",
      " [793.7 ]\n",
      " [783.33]\n",
      " [782.75]]\n"
     ]
    }
   ],
   "source": [
    "print(len(train_set))\n",
    "print(\"*\"*100)\n",
    "print(train_set)\n"
   ]
  },
  {
   "cell_type": "code",
   "execution_count": 19,
   "metadata": {},
   "outputs": [],
   "source": [
    "#we are doint Nomramlization of our values\n",
    "from sklearn.preprocessing import MinMaxScaler\n",
    "sc =MinMaxScaler(feature_range=(0,1))\n",
    "train_set_transformed =sc.fit_transform(train_set)"
   ]
  },
  {
   "cell_type": "code",
   "execution_count": 20,
   "metadata": {},
   "outputs": [],
   "source": [
    "x_train=[]\n",
    "y_train=[]\n",
    "for i in range(60,1258):\n",
    "    x_train.append(train_set_transformed[i-60:i,0])\n",
    "    y_train.append(train_set_transformed[i,0])\n",
    "x_train,y_train =np.array(x_train),np.array(y_train)"
   ]
  },
  {
   "cell_type": "code",
   "execution_count": 21,
   "metadata": {},
   "outputs": [
    {
     "data": {
      "text/plain": [
       "array([[0.08581368, 0.09701243, 0.09433366, ..., 0.07846566, 0.08034452,\n",
       "        0.08497656],\n",
       "       [0.09701243, 0.09433366, 0.09156187, ..., 0.08034452, 0.08497656,\n",
       "        0.08627874],\n",
       "       [0.09433366, 0.09156187, 0.07984225, ..., 0.08497656, 0.08627874,\n",
       "        0.08471612],\n",
       "       ...,\n",
       "       [0.92106928, 0.92438053, 0.93048218, ..., 0.95475854, 0.95204256,\n",
       "        0.95163331],\n",
       "       [0.92438053, 0.93048218, 0.9299055 , ..., 0.95204256, 0.95163331,\n",
       "        0.95725128],\n",
       "       [0.93048218, 0.9299055 , 0.93113327, ..., 0.95163331, 0.95725128,\n",
       "        0.93796041]])"
      ]
     },
     "execution_count": 21,
     "metadata": {},
     "output_type": "execute_result"
    }
   ],
   "source": [
    "x_train "
   ]
  },
  {
   "cell_type": "code",
   "execution_count": 22,
   "metadata": {},
   "outputs": [],
   "source": [
    "x_train =np.reshape(x_train,(x_train.shape[0],x_train.shape[1],1))"
   ]
  },
  {
   "cell_type": "code",
   "execution_count": 23,
   "metadata": {},
   "outputs": [
    {
     "data": {
      "text/plain": [
       "(1198, 60, 1)"
      ]
     },
     "execution_count": 23,
     "metadata": {},
     "output_type": "execute_result"
    }
   ],
   "source": [
    "# we only have 1198 row beacuse we took out 60 values for our y_train to train our model on simulation\n",
    "x_train.shape"
   ]
  },
  {
   "cell_type": "code",
   "execution_count": 24,
   "metadata": {},
   "outputs": [
    {
     "name": "stdout",
     "output_type": "stream",
     "text": [
      "using device mps\n"
     ]
    }
   ],
   "source": [
    "device  = torch.accelerator.current_accelerator().type if torch.accelerator.is_available() else 'cpu'\n",
    "print(f\"using device {device}\")"
   ]
  },
  {
   "cell_type": "code",
   "execution_count": 25,
   "metadata": {},
   "outputs": [],
   "source": [
    "class LSTMRegressor(nn.Module):\n",
    "    def __init__(self, input_dim, hidden_dim=50, num_layers=4, dropout=0.2):\n",
    "        super().__init__()\n",
    "\n",
    "        self.lstm = nn.LSTM(input_size=input_dim, \n",
    "                            hidden_size=hidden_dim, \n",
    "                            num_layers=num_layers, \n",
    "                            dropout=dropout, \n",
    "                            batch_first=True)\n",
    "\n",
    "        self.fc = nn.Linear(hidden_dim, 1)  # Output layer\n",
    "\n",
    "    def forward(self, x):\n",
    "        lstm_out, _ = self.lstm(x)  # Forward pass through LSTM layers\n",
    "        output = self.fc(lstm_out[:, -1, :])  # Take last timestep's output\n",
    "        return output\n",
    "\n"
   ]
  },
  {
   "cell_type": "code",
   "execution_count": 26,
   "metadata": {},
   "outputs": [
    {
     "name": "stdout",
     "output_type": "stream",
     "text": [
      "Epoch [1/100], Loss: 0.096871\n",
      "Epoch [2/100], Loss: 0.031041\n",
      "Epoch [3/100], Loss: 0.004321\n",
      "Epoch [4/100], Loss: 0.002685\n",
      "Epoch [5/100], Loss: 0.002760\n",
      "Epoch [6/100], Loss: 0.002336\n",
      "Epoch [7/100], Loss: 0.002002\n",
      "Epoch [8/100], Loss: 0.002044\n",
      "Epoch [9/100], Loss: 0.001982\n",
      "Epoch [10/100], Loss: 0.001863\n",
      "Epoch [11/100], Loss: 0.001972\n",
      "Epoch [12/100], Loss: 0.001745\n",
      "Epoch [13/100], Loss: 0.001767\n",
      "Epoch [14/100], Loss: 0.001691\n",
      "Epoch [15/100], Loss: 0.001731\n",
      "Epoch [16/100], Loss: 0.001620\n",
      "Epoch [17/100], Loss: 0.001488\n",
      "Epoch [18/100], Loss: 0.001637\n",
      "Epoch [19/100], Loss: 0.001668\n",
      "Epoch [20/100], Loss: 0.001785\n",
      "Epoch [21/100], Loss: 0.001565\n",
      "Epoch [22/100], Loss: 0.001438\n",
      "Epoch [23/100], Loss: 0.001404\n",
      "Epoch [24/100], Loss: 0.001420\n",
      "Epoch [25/100], Loss: 0.001481\n",
      "Epoch [26/100], Loss: 0.001565\n",
      "Epoch [27/100], Loss: 0.001329\n",
      "Epoch [28/100], Loss: 0.001324\n",
      "Epoch [29/100], Loss: 0.001455\n",
      "Epoch [30/100], Loss: 0.001254\n",
      "Epoch [31/100], Loss: 0.001266\n",
      "Epoch [32/100], Loss: 0.001220\n",
      "Epoch [33/100], Loss: 0.001343\n",
      "Epoch [34/100], Loss: 0.001158\n",
      "Epoch [35/100], Loss: 0.001258\n",
      "Epoch [36/100], Loss: 0.001291\n",
      "Epoch [37/100], Loss: 0.001221\n",
      "Epoch [38/100], Loss: 0.001175\n",
      "Epoch [39/100], Loss: 0.001211\n",
      "Epoch [40/100], Loss: 0.001184\n",
      "Epoch [41/100], Loss: 0.001126\n",
      "Epoch [42/100], Loss: 0.001132\n",
      "Epoch [43/100], Loss: 0.001201\n",
      "Epoch [44/100], Loss: 0.001215\n",
      "Epoch [45/100], Loss: 0.001253\n",
      "Epoch [46/100], Loss: 0.001121\n",
      "Epoch [47/100], Loss: 0.001080\n",
      "Epoch [48/100], Loss: 0.001017\n",
      "Epoch [49/100], Loss: 0.001107\n",
      "Epoch [50/100], Loss: 0.001156\n",
      "Epoch [51/100], Loss: 0.001134\n",
      "Epoch [52/100], Loss: 0.001120\n",
      "Epoch [53/100], Loss: 0.000945\n",
      "Epoch [54/100], Loss: 0.000908\n",
      "Epoch [55/100], Loss: 0.000887\n",
      "Epoch [56/100], Loss: 0.001004\n",
      "Epoch [57/100], Loss: 0.000981\n",
      "Epoch [58/100], Loss: 0.000972\n",
      "Epoch [59/100], Loss: 0.001042\n",
      "Epoch [60/100], Loss: 0.000976\n",
      "Epoch [61/100], Loss: 0.001013\n",
      "Epoch [62/100], Loss: 0.000912\n",
      "Epoch [63/100], Loss: 0.000932\n",
      "Epoch [64/100], Loss: 0.000840\n",
      "Epoch [65/100], Loss: 0.000898\n",
      "Epoch [66/100], Loss: 0.000884\n",
      "Epoch [67/100], Loss: 0.000910\n",
      "Epoch [68/100], Loss: 0.000821\n",
      "Epoch [69/100], Loss: 0.000937\n",
      "Epoch [70/100], Loss: 0.000798\n",
      "Epoch [71/100], Loss: 0.000832\n",
      "Epoch [72/100], Loss: 0.000789\n",
      "Epoch [73/100], Loss: 0.000819\n",
      "Epoch [74/100], Loss: 0.000739\n",
      "Epoch [75/100], Loss: 0.000794\n",
      "Epoch [76/100], Loss: 0.000744\n",
      "Epoch [77/100], Loss: 0.000794\n",
      "Epoch [78/100], Loss: 0.000781\n",
      "Epoch [79/100], Loss: 0.000740\n",
      "Epoch [80/100], Loss: 0.000698\n",
      "Epoch [81/100], Loss: 0.000743\n",
      "Epoch [82/100], Loss: 0.000769\n",
      "Epoch [83/100], Loss: 0.000778\n",
      "Epoch [84/100], Loss: 0.000692\n",
      "Epoch [85/100], Loss: 0.000712\n",
      "Epoch [86/100], Loss: 0.000646\n",
      "Epoch [87/100], Loss: 0.000865\n",
      "Epoch [88/100], Loss: 0.000618\n",
      "Epoch [89/100], Loss: 0.000669\n",
      "Epoch [90/100], Loss: 0.000684\n",
      "Epoch [91/100], Loss: 0.000600\n",
      "Epoch [92/100], Loss: 0.000764\n",
      "Epoch [93/100], Loss: 0.000688\n",
      "Epoch [94/100], Loss: 0.000675\n",
      "Epoch [95/100], Loss: 0.000676\n",
      "Epoch [96/100], Loss: 0.000695\n",
      "Epoch [97/100], Loss: 0.000732\n",
      "Epoch [98/100], Loss: 0.000722\n",
      "Epoch [99/100], Loss: 0.000674\n",
      "Epoch [100/100], Loss: 0.000683\n",
      "Training complete!\n"
     ]
    }
   ],
   "source": [
    "import torch\n",
    "import torch.nn as nn\n",
    "import torch.optim as optim\n",
    "from torch.utils.data import DataLoader, TensorDataset\n",
    "\n",
    "# Convert X_train and y_train to PyTorch tensors\n",
    "X_train_tensor = torch.tensor(x_train, dtype=torch.float32)\n",
    "y_train_tensor = torch.tensor(y_train, dtype=torch.float32).view(-1, 1)  # Reshape for compatibility\n",
    "\n",
    "# Create DataLoader\n",
    "batch_size = 32\n",
    "train_dataset = TensorDataset(X_train_tensor, y_train_tensor)\n",
    "train_loader = DataLoader(train_dataset, batch_size=batch_size, shuffle=True)\n",
    "\n",
    "# Define model, loss, and optimizer\n",
    "input_dim = x_train.shape[2]  # Input shape should match last dimension of X_train\n",
    "model = LSTMRegressor(input_dim)\n",
    "criterion = nn.MSELoss()\n",
    "optimizer = optim.Adam(model.parameters(), lr=0.001)\n",
    "\n",
    "# Training loop\n",
    "epochs = 100\n",
    "for epoch in range(epochs):\n",
    "    model.train()  # Set model to training mode\n",
    "    epoch_loss = 0\n",
    "\n",
    "    for X_batch, y_batch in train_loader:\n",
    "        optimizer.zero_grad()  # Clear gradients\n",
    "        y_pred = model(X_batch)  # Forward pass\n",
    "        loss = criterion(y_pred, y_batch)  # Compute loss\n",
    "        loss.backward()  # Backpropagation\n",
    "        optimizer.step()  # Update weights\n",
    "        epoch_loss += loss.item()\n",
    "\n",
    "    # Print progress\n",
    "    print(f\"Epoch [{epoch+1}/{epochs}], Loss: {epoch_loss/len(train_loader):.6f}\")\n",
    "\n",
    "print(\"Training complete!\")\n"
   ]
  },
  {
   "cell_type": "code",
   "execution_count": 28,
   "metadata": {},
   "outputs": [
    {
     "data": {
      "image/png": "[encoded data removed]",
      "text/plain": [
       "<Figure size 1000x600 with 1 Axes>"
      ]
     },
     "metadata": {},
     "output_type": "display_data"
    }
   ],
   "source": [
    "# Set model to evaluation mode\n",
    "model.eval()\n",
    "\n",
    "# Get predictions\n",
    "with torch.no_grad():\n",
    "    y_pred_tensor = model(X_train_tensor)\n",
    "\n",
    "# Convert tensors to numpy arrays for plotting\n",
    "y_pred = y_pred_tensor.numpy()\n",
    "y_actual = y_train_tensor.numpy()\n",
    "\n",
    "# Plotting\n",
    "plt.figure(figsize=(10, 6))\n",
    "plt.plot(y_actual, label='Actual')\n",
    "plt.plot(y_pred, label='Predicted')\n",
    "plt.xlabel('Time')\n",
    "plt.ylabel('Stock Price')\n",
    "plt.title('Actual vs Predicted Stock Prices(train)')\n",
    "plt.legend()\n",
    "plt.show()"
   ]
  },
  {
   "cell_type": "code",
   "execution_count": 67,
   "metadata": {},
   "outputs": [
    {
     "name": "stdout",
     "output_type": "stream",
     "text": [
      "1258\n"
     ]
    }
   ],
   "source": [
    "dataset_train = pd.read_csv('/Users/bhushanchowdary/Documents/GitHub/Google_Stock_Prediction_RNN/google_dataset/Google_Stock_Price_Train.csv')\n",
    "real_stock_price = dataset_train.iloc[:, 1:2].values\n",
    "print(len(dataset_train))"
   ]
  },
  {
   "cell_type": "code",
   "execution_count": 68,
   "metadata": {},
   "outputs": [
    {
     "name": "stdout",
     "output_type": "stream",
     "text": [
      "20\n"
     ]
    }
   ],
   "source": [
    "dataset_test = pd.read_csv('/Users/bhushanchowdary/Documents/GitHub/Google_Stock_Prediction_RNN/google_dataset/Google_Stock_Price_Test.csv')\n",
    "real_stock_price = dataset_test.iloc[:, 1:2].values\n",
    "print(len(dataset_test))"
   ]
  },
  {
   "cell_type": "code",
   "execution_count": 75,
   "metadata": {},
   "outputs": [],
   "source": [
    "import numpy as np\n",
    "\n",
    "dataset_total = pd.concat((dataset_train['Open'], dataset_test['Open']), axis=0)\n",
    "inputs = dataset_total[len(dataset_total) - len(dataset_test) - 60:].values\n",
    "inputs = inputs.reshape(-1, 1)  # Reshape to (40,1)\n",
    "inputs = sc.transform(inputs)   # Now it works!\n"
   ]
  },
  {
   "cell_type": "code",
   "execution_count": 76,
   "metadata": {},
   "outputs": [
    {
     "data": {
      "text/plain": [
       "(80, 1)"
      ]
     },
     "execution_count": 76,
     "metadata": {},
     "output_type": "execute_result"
    }
   ],
   "source": [
    "inputs.shape"
   ]
  },
  {
   "cell_type": "code",
   "execution_count": 81,
   "metadata": {},
   "outputs": [
    {
     "name": "stdout",
     "output_type": "stream",
     "text": [
      "Inputs Shape: torch.Size([1, 80, 1])\n"
     ]
    }
   ],
   "source": [
    "import torch\n",
    "\n",
    "# Ensure model is in evaluation mode\n",
    "model.eval()\n",
    "\n",
    "# Convert inputs to PyTorch tensor\n",
    "inputs_tensor = torch.tensor(inputs, dtype=torch.float32)\n",
    "\n",
    "# Reshape to (batch_size=1, seq_length, features=1)\n",
    "inputs_tensor = inputs_tensor.unsqueeze(0)  # Add batch dimension (1, seq_length)\n",
    "# No need for extra unsqueeze(-1), LSTM expects (batch, seq_length, features)\n",
    "\n",
    "# Move tensor to MPS\n",
    "device = torch.device(\"mps\" if torch.backends.mps.is_available() else \"cpu\")\n",
    "inputs_tensor = inputs_tensor.to(device)\n",
    "model.to(device)\n",
    "\n",
    "# Debugging shape\n",
    "print(f\"Inputs Shape: {inputs_tensor.shape}\")  # Should be (1, seq_length, 1)\n",
    "\n",
    "# Get predictions\n",
    "with torch.no_grad():\n",
    "    y_pred_tensor = model(inputs_tensor)  # Should work now!\n",
    "\n",
    "# Convert predictions to NumPy for plotting\n",
    "y_pred = y_pred_tensor.cpu().numpy()\n"
   ]
  },
  {
   "cell_type": "code",
   "execution_count": null,
   "metadata": {},
   "outputs": [
    {
     "name": "stdout",
     "output_type": "stream",
     "text": [
      "Predicted stock price for the next day: 798.59\n"
     ]
    }
   ],
   "source": [
    "\n",
    "y_pred_original = sc.inverse_transform(y_pred)\n",
    "\n",
    "print(f\"Predicted stock price for the next day: {y_pred_original[-1][0]:.2f}\")\n"
   ]
  }
 ],
 "metadata": {
  "kernelspec": {
   "display_name": "Python 3",
   "language": "python",
   "name": "python3"
  },
  "language_info": {
   "codemirror_mode": {
    "name": "ipython",
    "version": 3
   },
   "file_extension": ".py",
   "mimetype": "text/x-python",
   "name": "python",
   "nbconvert_exporter": "python",
   "pygments_lexer": "ipython3",
   "version": "3.10.12"
  }
 },
 "nbformat": 4,
 "nbformat_minor": 2
}
