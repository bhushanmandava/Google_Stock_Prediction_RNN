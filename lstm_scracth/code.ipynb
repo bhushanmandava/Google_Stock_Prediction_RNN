{
 "cells": [
  {
   "cell_type": "code",
   "execution_count": 1,
   "metadata": {},
   "outputs": [],
   "source": [
    "import torch\n",
    "import torch.nn as nn\n",
    "import torch.nn.functional as f\n",
    "from torch.optim import Adam"
   ]
  },
  {
   "cell_type": "code",
   "execution_count": 38,
   "metadata": {},
   "outputs": [
    {
     "name": "stdout",
     "output_type": "stream",
     "text": [
      "using device mps\n"
     ]
    }
   ],
   "source": [
    "device  = torch.accelerator.current_accelerator().type if torch.accelerator.is_available() else 'cpu'\n",
    "print(f\"using device {device}\")"
   ]
  },
  {
   "cell_type": "code",
   "execution_count": 59,
   "metadata": {},
   "outputs": [],
   "source": [
    "import torch\n",
    "import torch.nn as nn\n",
    "import torch.optim as optim\n",
    "from torch.utils.data import TensorDataset, DataLoader\n",
    "\n",
    "class LSTM_Scratch(nn.Module):\n",
    "    def __init__(self):\n",
    "        super().__init__()\n",
    "        mean, std = 0.0, 1.0\n",
    "\n",
    "        # Forget Gate\n",
    "        self.wa1 = nn.Parameter(torch.normal(mean=torch.tensor(mean), std=torch.tensor(std)))\n",
    "        self.wa2 = nn.Parameter(torch.normal(mean=torch.tensor(mean), std=torch.tensor(std)))\n",
    "        self.ba1 = nn.Parameter(torch.tensor(0.0))\n",
    "\n",
    "        # Input Gate\n",
    "        self.wb1 = nn.Parameter(torch.normal(mean=torch.tensor(mean), std=torch.tensor(std)))\n",
    "        self.wb2 = nn.Parameter(torch.normal(mean=torch.tensor(mean), std=torch.tensor(std)))\n",
    "        self.bb1 = nn.Parameter(torch.tensor(0.0))\n",
    "\n",
    "        # Candidate Memory\n",
    "        self.wc1 = nn.Parameter(torch.normal(mean=torch.tensor(mean), std=torch.tensor(std)))\n",
    "        self.wc2 = nn.Parameter(torch.normal(mean=torch.tensor(mean), std=torch.tensor(std)))\n",
    "        self.bc1 = nn.Parameter(torch.tensor(0.0))\n",
    "\n",
    "        # Output Gate\n",
    "        self.wd1 = nn.Parameter(torch.normal(mean=torch.tensor(mean), std=torch.tensor(std)))\n",
    "        self.wd2 = nn.Parameter(torch.normal(mean=torch.tensor(mean), std=torch.tensor(std)))\n",
    "        self.bd1 = nn.Parameter(torch.tensor(0.0))\n",
    "\n",
    "    def lstm_unit(self, input_value, long_memory, short_memory):\n",
    "        long_memory_percent = torch.sigmoid((short_memory * self.wa1) + (input_value * self.wa2) + self.ba1)\n",
    "        potential_memory_percent = torch.sigmoid((short_memory * self.wb1) + (input_value * self.wb2) + self.bb1)\n",
    "        potential_long_memory = torch.tanh((short_memory * self.wc1) + (input_value * self.wc2) + self.bc1)\n",
    "        updated_long_memory = (long_memory * long_memory_percent) + (potential_memory_percent * potential_long_memory)\n",
    "        output_short_memory = torch.sigmoid((short_memory * self.wd1) + (input_value * self.wd2) + self.bd1)\n",
    "        updated_short_memory = torch.tanh(updated_long_memory) * output_short_memory\n",
    "        return updated_long_memory, updated_short_memory\n",
    "\n",
    "    def forward(self, input):\n",
    "        batch_size, seq_len = input.shape\n",
    "        long_memory = torch.zeros(batch_size, device=input.device)\n",
    "        short_memory = torch.zeros(batch_size, device=input.device)\n",
    "\n",
    "        for t in range(seq_len):\n",
    "            long_memory, short_memory = self.lstm_unit(input[:, t], long_memory, short_memory)\n",
    "\n",
    "        return short_memory\n"
   ]
  },
  {
   "cell_type": "code",
   "execution_count": 63,
   "metadata": {},
   "outputs": [
    {
     "name": "stdout",
     "output_type": "stream",
     "text": [
      "prediction of the values\n",
      "Company A og_value: 0, pred_value:  tensor([-0.0936])\n",
      "Company B og_value: 1, pred_value:  tensor([-0.0938])\n"
     ]
    }
   ],
   "source": [
    "model =LSTM_Scratch()\n",
    "print('prediction of the values')\n",
    "print(\"Company A og_value: 0, pred_value: \", model(torch.tensor([[0.0, 0.5, 0.25, 1.0]])).detach())\n",
    "print(\"Company B og_value: 1, pred_value: \", model(torch.tensor([[1.0, 0.5, 0.25, 1.0]])).detach())\n"
   ]
  },
  {
   "cell_type": "code",
   "execution_count": 76,
   "metadata": {},
   "outputs": [
    {
     "name": "stdout",
     "output_type": "stream",
     "text": [
      "Epoch [1/500], Loss: 0.8386\n",
      "Epoch [101/500], Loss: 0.0357\n",
      "Epoch [201/500], Loss: 0.0054\n",
      "Epoch [301/500], Loss: 0.0026\n",
      "Epoch [401/500], Loss: 0.0016\n",
      "Training complete!\n",
      "\n",
      "Predictions:\n",
      "Company A pred_value: 0.9819430708885193\n",
      "Company B pred_value: 0.9841746091842651\n"
     ]
    }
   ],
   "source": [
    "def train_model(model, dataloader, num_epochs=500, lr=0.01):\n",
    "    optimizer = optim.Adam(model.parameters(), lr=lr)\n",
    "    loss_fn = nn.MSELoss()\n",
    "\n",
    "    for epoch in range(num_epochs):\n",
    "        total_loss = 0.0\n",
    "\n",
    "        for inputs, labels in dataloader:\n",
    "            outputs = model(inputs)  # Pass entire batch\n",
    "            loss = loss_fn(outputs, labels)\n",
    "\n",
    "            optimizer.zero_grad()\n",
    "            loss.backward()\n",
    "            optimizer.step()\n",
    "\n",
    "            total_loss += loss.item()\n",
    "\n",
    "        if epoch % 100 == 0:\n",
    "            print(f\"Epoch [{epoch+1}/{num_epochs}], Loss: {total_loss/len(dataloader):.4f}\")\n",
    "\n",
    "    print(\"Training complete!\")\n",
    "\n",
    "\n",
    "# Prepare data\n",
    "inputs = torch.tensor([[0., 0.5, 0.25, 0.], [1., 0.5, 0.25, 1.]]).float()\n",
    "labels = torch.tensor([1., 1.]).float().unsqueeze(1)\n",
    "\n",
    "dataset = TensorDataset(inputs, labels)\n",
    "dataloader = DataLoader(dataset, batch_size=2, shuffle=True)\n",
    "\n",
    "# Train Model\n",
    "model = LSTM_Scratch()\n",
    "train_model(model, dataloader)\n",
    "\n",
    "# Predictions\n",
    "print(\"\\nPredictions:\")\n",
    "print(\"Company A pred_value:\", model(torch.tensor([[0.0, 0.5, 0.25, 1.0]])).detach().item())\n",
    "print(\"Company B pred_value:\", model(torch.tensor([[1.0, 0.5, 0.25, 1.0]])).detach().item())"
   ]
  }
 ],
 "metadata": {
  "kernelspec": {
   "display_name": "Python 3",
   "language": "python",
   "name": "python3"
  },
  "language_info": {
   "codemirror_mode": {
    "name": "ipython",
    "version": 3
   },
   "file_extension": ".py",
   "mimetype": "text/x-python",
   "name": "python",
   "nbconvert_exporter": "python",
   "pygments_lexer": "ipython3",
   "version": "3.10.12"
  }
 },
 "nbformat": 4,
 "nbformat_minor": 2
}
